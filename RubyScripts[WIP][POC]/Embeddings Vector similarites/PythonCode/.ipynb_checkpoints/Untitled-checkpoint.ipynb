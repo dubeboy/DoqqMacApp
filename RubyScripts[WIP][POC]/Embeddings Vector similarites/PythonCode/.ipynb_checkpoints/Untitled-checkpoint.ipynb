{
 "cells": [
  {
   "cell_type": "code",
   "execution_count": null,
   "id": "e1935ba4-28a8-435d-b1ab-16be4ede1678",
   "metadata": {},
   "outputs": [],
   "source": [
    "from sentence_transformers import SentenceTransformer\n",
    "import numpy as np\n",
    "\n",
    "# Initialize the SentenceTransformer model\n",
    "model = SentenceTransformer('all-MiniLM-L6-v2')\n",
    "\n",
    "# Example code chunks\n",
    "code_chunks = [\n",
    "    \"func changeNavigationBarColor(to color: UIColor) { UINavigationBar.appearance().barTintColor = color }\",\n",
    "    \"let jsonString = try JSONEncoder().encode(object)\",\n",
    "    \"print('Hello, World!')\"\n",
    "]\n",
    "\n",
    "# Generate embeddings for code chunks\n",
    "embeddings = model.encode(code_chunks)\n",
    "\n",
    "# Save embeddings and code chunks for future use\n",
    "#np.save('code_chunks.npy', code_chunks)\n",
    "#np.save('embeddings.npy', embeddings)\n"
   ]
  }
 ],
 "metadata": {
  "kernelspec": {
   "display_name": "Python 3 (ipykernel)",
   "language": "python",
   "name": "python3"
  },
  "language_info": {
   "codemirror_mode": {
    "name": "ipython",
    "version": 3
   },
   "file_extension": ".py",
   "mimetype": "text/x-python",
   "name": "python",
   "nbconvert_exporter": "python",
   "pygments_lexer": "ipython3",
   "version": "3.9.6"
  }
 },
 "nbformat": 4,
 "nbformat_minor": 5
}
